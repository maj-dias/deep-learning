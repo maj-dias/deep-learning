{
 "cells": [
  {
   "cell_type": "code",
   "execution_count": 10,
   "metadata": {},
   "outputs": [],
   "source": [
    "import numpy as np\n",
    "import pandas as pd\n",
    "from sklearn.model_selection import train_test_split\n",
    "from sklearn.preprocessing import StandardScaler\n",
    "from sklearn.metrics import confusion_matrix\n",
    "from tensorflow import keras\n",
    "from tensorflow.keras.optimizers import Adam\n",
    "from tensorflow.keras.losses import BinaryCrossentropy\n",
    "from tensorflow.keras.metrics import BinaryAccuracy\n",
    "from matplotlib import pyplot as plt\n",
    "import seaborn as sns"
   ]
  },
  {
   "cell_type": "code",
   "execution_count": 2,
   "metadata": {},
   "outputs": [],
   "source": [
    "# Carrega a base de dados a partir de seu caminho\n",
    "data = np.load('dataset.npz', allow_pickle=True)\n",
    "X = data['X_train']\n",
    "y = data['y_train']\n",
    "X_train, X_test, y_train, y_test = train_test_split(X, y, test_size=0.2, random_state=42)"
   ]
  },
  {
   "cell_type": "code",
   "execution_count": 3,
   "metadata": {},
   "outputs": [],
   "source": [
    "# Scale\n",
    "scaler = StandardScaler()\n",
    "X_train_sc = scaler.fit_transform(X_train)\n",
    "X_test_sc = scaler.transform(X_test)"
   ]
  },
  {
   "cell_type": "code",
   "execution_count": 4,
   "metadata": {},
   "outputs": [
    {
     "name": "stderr",
     "output_type": "stream",
     "text": [
      "2024-08-19 00:11:52.996415: I external/local_xla/xla/stream_executor/cuda/cuda_executor.cc:984] could not open file to read NUMA node: /sys/bus/pci/devices/0000:01:00.0/numa_node\n",
      "Your kernel may have been built without NUMA support.\n",
      "2024-08-19 00:11:52.999477: W tensorflow/core/common_runtime/gpu/gpu_device.cc:2251] Cannot dlopen some GPU libraries. Please make sure the missing libraries mentioned above are installed properly if you would like to use GPU. Follow the guide at https://www.tensorflow.org/install/gpu for how to download and setup the required libraries for your platform.\n",
      "Skipping registering GPU devices...\n"
     ]
    }
   ],
   "source": [
    "#Model\n",
    "initializer = keras.initializers.GlorotNormal(seed=12227)\n",
    "\n",
    "inputs = keras.layers.Input(shape=(X_test_sc.shape[1],))\n",
    "\n",
    "n = 128\n",
    "H = keras.layers.Dense(units=n, activation='relu', kernel_initializer=initializer)(inputs)\n",
    "shortcut = H\n",
    "H = keras.layers.Dense(units=n*2, activation='relu', kernel_initializer=initializer)(H)\n",
    "H = keras.layers.Dense(units=n*4, activation='relu', kernel_initializer=initializer)(H)\n",
    "H = keras.layers.Dense(units=n*8, activation='relu', kernel_initializer=initializer)(H)\n",
    "H = keras.layers.Dense(units=n*4, activation='relu', kernel_initializer=initializer)(H)\n",
    "H = keras.layers.Dense(units=n*2, activation='relu', kernel_initializer=initializer)(H)\n",
    "H = keras.layers.Dense(units=n, activation='relu', kernel_initializer=initializer)(H)\n",
    "H=H+shortcut\n",
    "outputs = keras.layers.Dense(units=1, activation='sigmoid', kernel_initializer=initializer)(H)\n",
    "\n",
    "model = keras.models.Model(inputs=inputs, outputs=outputs)"
   ]
  },
  {
   "cell_type": "code",
   "execution_count": 5,
   "metadata": {},
   "outputs": [],
   "source": [
    "# Compile the model\n",
    "model.compile(optimizer=Adam(learning_rate=0.001), loss=BinaryCrossentropy(), metrics=[BinaryAccuracy()])"
   ]
  },
  {
   "cell_type": "code",
   "execution_count": 6,
   "metadata": {},
   "outputs": [
    {
     "name": "stdout",
     "output_type": "stream",
     "text": [
      "Epoch 1/50\n",
      "\u001b[1m150/150\u001b[0m \u001b[32m━━━━━━━━━━━━━━━━━━━━\u001b[0m\u001b[37m\u001b[0m \u001b[1m5s\u001b[0m 26ms/step - binary_accuracy: 0.7504 - loss: 0.6571 - learning_rate: 0.0100\n",
      "Epoch 2/50\n",
      "\u001b[1m150/150\u001b[0m \u001b[32m━━━━━━━━━━━━━━━━━━━━\u001b[0m\u001b[37m\u001b[0m \u001b[1m4s\u001b[0m 25ms/step - binary_accuracy: 0.8081 - loss: 0.4082 - learning_rate: 0.0100\n",
      "Epoch 3/50\n",
      "\u001b[1m150/150\u001b[0m \u001b[32m━━━━━━━━━━━━━━━━━━━━\u001b[0m\u001b[37m\u001b[0m \u001b[1m4s\u001b[0m 28ms/step - binary_accuracy: 0.8113 - loss: 0.4021 - learning_rate: 0.0100\n",
      "Epoch 4/50\n",
      "\u001b[1m150/150\u001b[0m \u001b[32m━━━━━━━━━━━━━━━━━━━━\u001b[0m\u001b[37m\u001b[0m \u001b[1m4s\u001b[0m 26ms/step - binary_accuracy: 0.8102 - loss: 0.3995 - learning_rate: 0.0100\n",
      "Epoch 5/50\n",
      "\u001b[1m150/150\u001b[0m \u001b[32m━━━━━━━━━━━━━━━━━━━━\u001b[0m\u001b[37m\u001b[0m \u001b[1m5s\u001b[0m 32ms/step - binary_accuracy: 0.8141 - loss: 0.3969 - learning_rate: 0.0100\n",
      "Epoch 6/50\n",
      "\u001b[1m150/150\u001b[0m \u001b[32m━━━━━━━━━━━━━━━━━━━━\u001b[0m\u001b[37m\u001b[0m \u001b[1m5s\u001b[0m 32ms/step - binary_accuracy: 0.8101 - loss: 0.3966 - learning_rate: 0.0100\n",
      "Epoch 7/50\n",
      "\u001b[1m150/150\u001b[0m \u001b[32m━━━━━━━━━━━━━━━━━━━━\u001b[0m\u001b[37m\u001b[0m \u001b[1m3s\u001b[0m 22ms/step - binary_accuracy: 0.8169 - loss: 0.3926 - learning_rate: 0.0100\n",
      "Epoch 8/50\n",
      "\u001b[1m150/150\u001b[0m \u001b[32m━━━━━━━━━━━━━━━━━━━━\u001b[0m\u001b[37m\u001b[0m \u001b[1m5s\u001b[0m 35ms/step - binary_accuracy: 0.8162 - loss: 0.3920 - learning_rate: 0.0100\n",
      "Epoch 9/50\n",
      "\u001b[1m150/150\u001b[0m \u001b[32m━━━━━━━━━━━━━━━━━━━━\u001b[0m\u001b[37m\u001b[0m \u001b[1m5s\u001b[0m 34ms/step - binary_accuracy: 0.8159 - loss: 0.3947 - learning_rate: 0.0100\n",
      "Epoch 10/50\n",
      "\u001b[1m150/150\u001b[0m \u001b[32m━━━━━━━━━━━━━━━━━━━━\u001b[0m\u001b[37m\u001b[0m \u001b[1m5s\u001b[0m 31ms/step - binary_accuracy: 0.8157 - loss: 0.3960 - learning_rate: 0.0100\n",
      "Epoch 11/50\n",
      "\u001b[1m150/150\u001b[0m \u001b[32m━━━━━━━━━━━━━━━━━━━━\u001b[0m\u001b[37m\u001b[0m \u001b[1m4s\u001b[0m 27ms/step - binary_accuracy: 0.8209 - loss: 0.3830 - learning_rate: 0.0010\n",
      "Epoch 12/50\n",
      "\u001b[1m150/150\u001b[0m \u001b[32m━━━━━━━━━━━━━━━━━━━━\u001b[0m\u001b[37m\u001b[0m \u001b[1m4s\u001b[0m 25ms/step - binary_accuracy: 0.8188 - loss: 0.3880 - learning_rate: 0.0010\n",
      "Epoch 13/50\n",
      "\u001b[1m150/150\u001b[0m \u001b[32m━━━━━━━━━━━━━━━━━━━━\u001b[0m\u001b[37m\u001b[0m \u001b[1m4s\u001b[0m 25ms/step - binary_accuracy: 0.8242 - loss: 0.3805 - learning_rate: 0.0010\n",
      "Epoch 14/50\n",
      "\u001b[1m150/150\u001b[0m \u001b[32m━━━━━━━━━━━━━━━━━━━━\u001b[0m\u001b[37m\u001b[0m \u001b[1m2s\u001b[0m 15ms/step - binary_accuracy: 0.8229 - loss: 0.3863 - learning_rate: 0.0010\n",
      "Epoch 15/50\n",
      "\u001b[1m150/150\u001b[0m \u001b[32m━━━━━━━━━━━━━━━━━━━━\u001b[0m\u001b[37m\u001b[0m \u001b[1m4s\u001b[0m 29ms/step - binary_accuracy: 0.8233 - loss: 0.3836 - learning_rate: 0.0010\n",
      "Epoch 16/50\n",
      "\u001b[1m150/150\u001b[0m \u001b[32m━━━━━━━━━━━━━━━━━━━━\u001b[0m\u001b[37m\u001b[0m \u001b[1m6s\u001b[0m 37ms/step - binary_accuracy: 0.8241 - loss: 0.3837 - learning_rate: 0.0010\n",
      "Epoch 17/50\n",
      "\u001b[1m150/150\u001b[0m \u001b[32m━━━━━━━━━━━━━━━━━━━━\u001b[0m\u001b[37m\u001b[0m \u001b[1m6s\u001b[0m 36ms/step - binary_accuracy: 0.8246 - loss: 0.3828 - learning_rate: 0.0010\n",
      "Epoch 18/50\n",
      "\u001b[1m150/150\u001b[0m \u001b[32m━━━━━━━━━━━━━━━━━━━━\u001b[0m\u001b[37m\u001b[0m \u001b[1m6s\u001b[0m 38ms/step - binary_accuracy: 0.8255 - loss: 0.3803 - learning_rate: 0.0010\n",
      "Epoch 19/50\n",
      "\u001b[1m150/150\u001b[0m \u001b[32m━━━━━━━━━━━━━━━━━━━━\u001b[0m\u001b[37m\u001b[0m \u001b[1m5s\u001b[0m 35ms/step - binary_accuracy: 0.8260 - loss: 0.3773 - learning_rate: 0.0010\n",
      "Epoch 20/50\n",
      "\u001b[1m150/150\u001b[0m \u001b[32m━━━━━━━━━━━━━━━━━━━━\u001b[0m\u001b[37m\u001b[0m \u001b[1m4s\u001b[0m 29ms/step - binary_accuracy: 0.8254 - loss: 0.3786 - learning_rate: 0.0010\n",
      "Epoch 21/50\n",
      "\u001b[1m150/150\u001b[0m \u001b[32m━━━━━━━━━━━━━━━━━━━━\u001b[0m\u001b[37m\u001b[0m \u001b[1m2s\u001b[0m 16ms/step - binary_accuracy: 0.8298 - loss: 0.3717 - learning_rate: 1.0000e-04\n",
      "Epoch 22/50\n",
      "\u001b[1m150/150\u001b[0m \u001b[32m━━━━━━━━━━━━━━━━━━━━\u001b[0m\u001b[37m\u001b[0m \u001b[1m5s\u001b[0m 33ms/step - binary_accuracy: 0.8271 - loss: 0.3728 - learning_rate: 1.0000e-04\n",
      "Epoch 23/50\n",
      "\u001b[1m150/150\u001b[0m \u001b[32m━━━━━━━━━━━━━━━━━━━━\u001b[0m\u001b[37m\u001b[0m \u001b[1m4s\u001b[0m 27ms/step - binary_accuracy: 0.8251 - loss: 0.3786 - learning_rate: 1.0000e-04\n",
      "Epoch 24/50\n",
      "\u001b[1m150/150\u001b[0m \u001b[32m━━━━━━━━━━━━━━━━━━━━\u001b[0m\u001b[37m\u001b[0m \u001b[1m4s\u001b[0m 26ms/step - binary_accuracy: 0.8259 - loss: 0.3732 - learning_rate: 1.0000e-04\n",
      "Epoch 25/50\n",
      "\u001b[1m150/150\u001b[0m \u001b[32m━━━━━━━━━━━━━━━━━━━━\u001b[0m\u001b[37m\u001b[0m \u001b[1m5s\u001b[0m 32ms/step - binary_accuracy: 0.8268 - loss: 0.3758 - learning_rate: 1.0000e-04\n",
      "Epoch 26/50\n",
      "\u001b[1m150/150\u001b[0m \u001b[32m━━━━━━━━━━━━━━━━━━━━\u001b[0m\u001b[37m\u001b[0m \u001b[1m5s\u001b[0m 36ms/step - binary_accuracy: 0.8307 - loss: 0.3707 - learning_rate: 1.0000e-04\n",
      "Epoch 27/50\n",
      "\u001b[1m150/150\u001b[0m \u001b[32m━━━━━━━━━━━━━━━━━━━━\u001b[0m\u001b[37m\u001b[0m \u001b[1m4s\u001b[0m 28ms/step - binary_accuracy: 0.8280 - loss: 0.3737 - learning_rate: 1.0000e-04\n",
      "Epoch 28/50\n",
      "\u001b[1m150/150\u001b[0m \u001b[32m━━━━━━━━━━━━━━━━━━━━\u001b[0m\u001b[37m\u001b[0m \u001b[1m3s\u001b[0m 19ms/step - binary_accuracy: 0.8257 - loss: 0.3776 - learning_rate: 1.0000e-04\n",
      "Epoch 29/50\n",
      "\u001b[1m150/150\u001b[0m \u001b[32m━━━━━━━━━━━━━━━━━━━━\u001b[0m\u001b[37m\u001b[0m \u001b[1m5s\u001b[0m 35ms/step - binary_accuracy: 0.8263 - loss: 0.3777 - learning_rate: 1.0000e-04\n",
      "Epoch 30/50\n",
      "\u001b[1m150/150\u001b[0m \u001b[32m━━━━━━━━━━━━━━━━━━━━\u001b[0m\u001b[37m\u001b[0m \u001b[1m5s\u001b[0m 34ms/step - binary_accuracy: 0.8263 - loss: 0.3751 - learning_rate: 1.0000e-04\n",
      "Epoch 31/50\n",
      "\u001b[1m150/150\u001b[0m \u001b[32m━━━━━━━━━━━━━━━━━━━━\u001b[0m\u001b[37m\u001b[0m \u001b[1m5s\u001b[0m 33ms/step - binary_accuracy: 0.8281 - loss: 0.3754 - learning_rate: 3.3333e-06\n",
      "Epoch 32/50\n",
      "\u001b[1m150/150\u001b[0m \u001b[32m━━━━━━━━━━━━━━━━━━━━\u001b[0m\u001b[37m\u001b[0m \u001b[1m5s\u001b[0m 35ms/step - binary_accuracy: 0.8285 - loss: 0.3723 - learning_rate: 3.2258e-06\n",
      "Epoch 33/50\n",
      "\u001b[1m150/150\u001b[0m \u001b[32m━━━━━━━━━━━━━━━━━━━━\u001b[0m\u001b[37m\u001b[0m \u001b[1m5s\u001b[0m 33ms/step - binary_accuracy: 0.8305 - loss: 0.3711 - learning_rate: 3.1250e-06\n",
      "Epoch 34/50\n",
      "\u001b[1m150/150\u001b[0m \u001b[32m━━━━━━━━━━━━━━━━━━━━\u001b[0m\u001b[37m\u001b[0m \u001b[1m4s\u001b[0m 24ms/step - binary_accuracy: 0.8324 - loss: 0.3685 - learning_rate: 3.0303e-06\n",
      "Epoch 35/50\n",
      "\u001b[1m150/150\u001b[0m \u001b[32m━━━━━━━━━━━━━━━━━━━━\u001b[0m\u001b[37m\u001b[0m \u001b[1m4s\u001b[0m 27ms/step - binary_accuracy: 0.8321 - loss: 0.3682 - learning_rate: 2.9412e-06\n",
      "Epoch 36/50\n",
      "\u001b[1m150/150\u001b[0m \u001b[32m━━━━━━━━━━━━━━━━━━━━\u001b[0m\u001b[37m\u001b[0m \u001b[1m4s\u001b[0m 27ms/step - binary_accuracy: 0.8268 - loss: 0.3713 - learning_rate: 2.8571e-06\n",
      "Epoch 37/50\n",
      "\u001b[1m150/150\u001b[0m \u001b[32m━━━━━━━━━━━━━━━━━━━━\u001b[0m\u001b[37m\u001b[0m \u001b[1m4s\u001b[0m 24ms/step - binary_accuracy: 0.8302 - loss: 0.3712 - learning_rate: 2.7778e-06\n",
      "Epoch 38/50\n",
      "\u001b[1m150/150\u001b[0m \u001b[32m━━━━━━━━━━━━━━━━━━━━\u001b[0m\u001b[37m\u001b[0m \u001b[1m4s\u001b[0m 24ms/step - binary_accuracy: 0.8297 - loss: 0.3722 - learning_rate: 2.7027e-06\n",
      "Epoch 39/50\n",
      "\u001b[1m150/150\u001b[0m \u001b[32m━━━━━━━━━━━━━━━━━━━━\u001b[0m\u001b[37m\u001b[0m \u001b[1m4s\u001b[0m 24ms/step - binary_accuracy: 0.8272 - loss: 0.3760 - learning_rate: 2.6316e-06\n",
      "Epoch 40/50\n",
      "\u001b[1m150/150\u001b[0m \u001b[32m━━━━━━━━━━━━━━━━━━━━\u001b[0m\u001b[37m\u001b[0m \u001b[1m4s\u001b[0m 24ms/step - binary_accuracy: 0.8273 - loss: 0.3765 - learning_rate: 2.5641e-06\n",
      "Epoch 41/50\n",
      "\u001b[1m150/150\u001b[0m \u001b[32m━━━━━━━━━━━━━━━━━━━━\u001b[0m\u001b[37m\u001b[0m \u001b[1m4s\u001b[0m 24ms/step - binary_accuracy: 0.8310 - loss: 0.3707 - learning_rate: 2.5000e-06\n",
      "Epoch 42/50\n",
      "\u001b[1m150/150\u001b[0m \u001b[32m━━━━━━━━━━━━━━━━━━━━\u001b[0m\u001b[37m\u001b[0m \u001b[1m5s\u001b[0m 32ms/step - binary_accuracy: 0.8272 - loss: 0.3769 - learning_rate: 2.4390e-06\n",
      "Epoch 43/50\n",
      "\u001b[1m150/150\u001b[0m \u001b[32m━━━━━━━━━━━━━━━━━━━━\u001b[0m\u001b[37m\u001b[0m \u001b[1m4s\u001b[0m 35ms/step - binary_accuracy: 0.8261 - loss: 0.3724 - learning_rate: 2.3810e-06\n",
      "Epoch 44/50\n",
      "\u001b[1m150/150\u001b[0m \u001b[32m━━━━━━━━━━━━━━━━━━━━\u001b[0m\u001b[37m\u001b[0m \u001b[1m5s\u001b[0m 35ms/step - binary_accuracy: 0.8274 - loss: 0.3731 - learning_rate: 2.3256e-06\n",
      "Epoch 45/50\n",
      "\u001b[1m150/150\u001b[0m \u001b[32m━━━━━━━━━━━━━━━━━━━━\u001b[0m\u001b[37m\u001b[0m \u001b[1m5s\u001b[0m 32ms/step - binary_accuracy: 0.8286 - loss: 0.3740 - learning_rate: 2.2727e-06\n",
      "Epoch 46/50\n",
      "\u001b[1m150/150\u001b[0m \u001b[32m━━━━━━━━━━━━━━━━━━━━\u001b[0m\u001b[37m\u001b[0m \u001b[1m5s\u001b[0m 32ms/step - binary_accuracy: 0.8241 - loss: 0.3766 - learning_rate: 2.2222e-06\n",
      "Epoch 47/50\n",
      "\u001b[1m150/150\u001b[0m \u001b[32m━━━━━━━━━━━━━━━━━━━━\u001b[0m\u001b[37m\u001b[0m \u001b[1m5s\u001b[0m 33ms/step - binary_accuracy: 0.8293 - loss: 0.3727 - learning_rate: 2.1739e-06\n",
      "Epoch 48/50\n",
      "\u001b[1m150/150\u001b[0m \u001b[32m━━━━━━━━━━━━━━━━━━━━\u001b[0m\u001b[37m\u001b[0m \u001b[1m5s\u001b[0m 35ms/step - binary_accuracy: 0.8304 - loss: 0.3708 - learning_rate: 2.1277e-06\n",
      "Epoch 49/50\n",
      "\u001b[1m150/150\u001b[0m \u001b[32m━━━━━━━━━━━━━━━━━━━━\u001b[0m\u001b[37m\u001b[0m \u001b[1m3s\u001b[0m 17ms/step - binary_accuracy: 0.8252 - loss: 0.3764 - learning_rate: 2.0833e-06\n",
      "Epoch 50/50\n",
      "\u001b[1m150/150\u001b[0m \u001b[32m━━━━━━━━━━━━━━━━━━━━\u001b[0m\u001b[37m\u001b[0m \u001b[1m4s\u001b[0m 24ms/step - binary_accuracy: 0.8258 - loss: 0.3765 - learning_rate: 2.0408e-06\n"
     ]
    }
   ],
   "source": [
    "def lr_schedule(epoch, lr):\n",
    "    if epoch < 10:\n",
    "        return 0.01\n",
    "    elif epoch < 20:\n",
    "        return 0.001\n",
    "    elif epoch < 30:\n",
    "        return 0.0001\n",
    "    else:\n",
    "        return 0.0001/epoch\n",
    "    \n",
    "scheduler = keras.callbacks.LearningRateScheduler(lr_schedule)\n",
    "    \n",
    "history = model.fit(X_train_sc, y_train, epochs=50, batch_size=256, callbacks=[scheduler])"
   ]
  },
  {
   "cell_type": "code",
   "execution_count": 12,
   "metadata": {},
   "outputs": [
    {
     "name": "stdout",
     "output_type": "stream",
     "text": [
      "\u001b[1m299/299\u001b[0m \u001b[32m━━━━━━━━━━━━━━━━━━━━\u001b[0m\u001b[37m\u001b[0m \u001b[1m-1s\u001b[0m -2487us/step\n"
     ]
    },
    {
     "data": {
      "image/png": "[encoded data removed]",
      "text/plain": [
       "<Figure size 800x600 with 2 Axes>"
      ]
     },
     "metadata": {},
     "output_type": "display_data"
    }
   ],
   "source": [
    "# Make predictions on the test set\n",
    "\n",
    "y_pred = model.predict(X_test_sc)\n",
    "y_pred_classes = (y_pred > 0.5).astype(int)\n",
    "\n",
    "# Compute the confusion matrix\n",
    "cm = confusion_matrix(y_test, y_pred_classes)\n",
    "\n",
    "# Display the confusion matrix\n",
    "plt.figure(figsize=(8, 6))\n",
    "sns.heatmap(cm, annot=True, fmt=\"d\", cmap='Blues')\n",
    "plt.xlabel('Predicted')\n",
    "plt.ylabel('Actual')\n",
    "plt.title('Confusion Matrix')\n",
    "plt.show()"
   ]
  },
  {
   "cell_type": "code",
   "execution_count": 15,
   "metadata": {},
   "outputs": [
    {
     "name": "stdout",
     "output_type": "stream",
     "text": [
      "Test Loss: 0.3857\n",
      "Test Accuracy: 0.8255\n",
      "Sensibilidade: 0.8066\n",
      "Especificidade: 0.8385\n"
     ]
    }
   ],
   "source": [
    "# Evaluate the model on the test set\n",
    "tn, fp, fn, tp = cm.ravel()\n",
    "loss, accuracy = model.evaluate(X_test_sc, y_test, verbose=0)\n",
    "print(f'Test Loss: {loss:.4f}')\n",
    "print(f'Test Accuracy: {accuracy:.4f}')\n",
    "\n",
    "# Calcule a sensibilidade (Recall ou TPR)\n",
    "sensibilidade = tp / (tp + fn)\n",
    "print(f\"Sensibilidade: {sensibilidade:.4f}\")\n",
    "\n",
    "# Calcule a especificidade (TNR)\n",
    "especificidade = tn / (tn + fp)\n",
    "print(f\"Especificidade: {especificidade:.4f}\")"
   ]
  }
 ],
 "metadata": {
  "kernelspec": {
   "display_name": "venv",
   "language": "python",
   "name": "python3"
  },
  "language_info": {
   "codemirror_mode": {
    "name": "ipython",
    "version": 3
   },
   "file_extension": ".py",
   "mimetype": "text/x-python",
   "name": "python",
   "nbconvert_exporter": "python",
   "pygments_lexer": "ipython3",
   "version": "3.12.3"
  }
 },
 "nbformat": 4,
 "nbformat_minor": 2
}
